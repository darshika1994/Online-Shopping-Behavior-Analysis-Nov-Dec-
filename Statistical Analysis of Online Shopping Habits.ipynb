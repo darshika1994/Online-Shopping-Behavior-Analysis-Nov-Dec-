{
 "cells": [
  {
   "cell_type": "markdown",
   "id": "72d05c51",
   "metadata": {},
   "source": [
    "# Problem Statement"
   ]
  },
  {
   "cell_type": "markdown",
   "id": "11a02724",
   "metadata": {},
   "source": [
    "Using statistics and probability techniques, I will identify the differences between customer's browsing habits and shopping patterns. This insights will help the marketing team understand customer engagement on the website.\n",
    "\n",
    "The marketing team asked to analyze the behavior of online customers during November and December, the busiest months for shoppers.\n",
    "\n",
    "1. Calculate Purchase Rates: For both returning and new customers during November and December.\n",
    "2. Identify Strongest Correlation: In total time spent among page types for returning customers.\n",
    "3. Campaign Impact: Calculate the likelihood of at least 100 sales out of 500 online shopping sessions for returning customers, given a 15% boost in the purchase rate.\n",
    "\n",
    "**Purchase Rates Hypothesis**:\n",
    "   **Hypothesis**: Returning customers have a higher purchase rate than new customers during November and December.\n",
    "   - **Null Hypothesis (H₀)**: The purchase rate of returning customers is **equal to or less** than that of new customers.\n",
    "   - **Alternative Hypothesis (H₁)**: The purchase rate of returning customers is **higher** than that of new \n",
    "\n",
    "   This hypothesis can be tested using a **proportion test** to compare the purchase rates between the two customer types.\n",
    "\n",
    "**Purchase Rates**: Do returning customers have a higher purchase rate than new customers?"
   ]
  },
  {
   "cell_type": "markdown",
   "id": "9763ca76",
   "metadata": {},
   "source": [
    "# Import required libraries"
   ]
  },
  {
   "cell_type": "code",
   "execution_count": 1,
   "id": "0d8b3485",
   "metadata": {},
   "outputs": [],
   "source": [
    "import pandas as pd\n",
    "import numpy as np\n",
    "import matplotlib.pyplot as plt\n",
    "from scipy import stats"
   ]
  },
  {
   "cell_type": "markdown",
   "id": "b359ec0b",
   "metadata": {},
   "source": [
    "# Load and preview data"
   ]
  },
  {
   "cell_type": "code",
   "execution_count": 2,
   "id": "80146960",
   "metadata": {},
   "outputs": [
    {
     "data": {
      "text/html": [
       "<div>\n",
       "<style scoped>\n",
       "    .dataframe tbody tr th:only-of-type {\n",
       "        vertical-align: middle;\n",
       "    }\n",
       "\n",
       "    .dataframe tbody tr th {\n",
       "        vertical-align: top;\n",
       "    }\n",
       "\n",
       "    .dataframe thead th {\n",
       "        text-align: right;\n",
       "    }\n",
       "</style>\n",
       "<table border=\"1\" class=\"dataframe\">\n",
       "  <thead>\n",
       "    <tr style=\"text-align: right;\">\n",
       "      <th></th>\n",
       "      <th>SessionID</th>\n",
       "      <th>Administrative</th>\n",
       "      <th>Administrative_Duration</th>\n",
       "      <th>Informational</th>\n",
       "      <th>Informational_Duration</th>\n",
       "      <th>ProductRelated</th>\n",
       "      <th>ProductRelated_Duration</th>\n",
       "      <th>BounceRates</th>\n",
       "      <th>ExitRates</th>\n",
       "      <th>PageValues</th>\n",
       "      <th>SpecialDay</th>\n",
       "      <th>Weekend</th>\n",
       "      <th>Month</th>\n",
       "      <th>CustomerType</th>\n",
       "      <th>Purchase</th>\n",
       "    </tr>\n",
       "  </thead>\n",
       "  <tbody>\n",
       "    <tr>\n",
       "      <th>0</th>\n",
       "      <td>1</td>\n",
       "      <td>0</td>\n",
       "      <td>0.0</td>\n",
       "      <td>0</td>\n",
       "      <td>0.0</td>\n",
       "      <td>1</td>\n",
       "      <td>0.000000</td>\n",
       "      <td>0.20</td>\n",
       "      <td>0.20</td>\n",
       "      <td>0.0</td>\n",
       "      <td>0.0</td>\n",
       "      <td>False</td>\n",
       "      <td>Feb</td>\n",
       "      <td>Returning_Customer</td>\n",
       "      <td>0.0</td>\n",
       "    </tr>\n",
       "    <tr>\n",
       "      <th>1</th>\n",
       "      <td>2</td>\n",
       "      <td>0</td>\n",
       "      <td>0.0</td>\n",
       "      <td>0</td>\n",
       "      <td>0.0</td>\n",
       "      <td>2</td>\n",
       "      <td>64.000000</td>\n",
       "      <td>0.00</td>\n",
       "      <td>0.10</td>\n",
       "      <td>0.0</td>\n",
       "      <td>0.0</td>\n",
       "      <td>False</td>\n",
       "      <td>Feb</td>\n",
       "      <td>Returning_Customer</td>\n",
       "      <td>0.0</td>\n",
       "    </tr>\n",
       "    <tr>\n",
       "      <th>2</th>\n",
       "      <td>3</td>\n",
       "      <td>0</td>\n",
       "      <td>0.0</td>\n",
       "      <td>0</td>\n",
       "      <td>0.0</td>\n",
       "      <td>1</td>\n",
       "      <td>0.000000</td>\n",
       "      <td>0.20</td>\n",
       "      <td>0.20</td>\n",
       "      <td>0.0</td>\n",
       "      <td>0.0</td>\n",
       "      <td>False</td>\n",
       "      <td>Feb</td>\n",
       "      <td>Returning_Customer</td>\n",
       "      <td>0.0</td>\n",
       "    </tr>\n",
       "    <tr>\n",
       "      <th>3</th>\n",
       "      <td>4</td>\n",
       "      <td>0</td>\n",
       "      <td>0.0</td>\n",
       "      <td>0</td>\n",
       "      <td>0.0</td>\n",
       "      <td>2</td>\n",
       "      <td>2.666667</td>\n",
       "      <td>0.05</td>\n",
       "      <td>0.14</td>\n",
       "      <td>0.0</td>\n",
       "      <td>0.0</td>\n",
       "      <td>False</td>\n",
       "      <td>Feb</td>\n",
       "      <td>Returning_Customer</td>\n",
       "      <td>0.0</td>\n",
       "    </tr>\n",
       "    <tr>\n",
       "      <th>4</th>\n",
       "      <td>5</td>\n",
       "      <td>0</td>\n",
       "      <td>0.0</td>\n",
       "      <td>0</td>\n",
       "      <td>0.0</td>\n",
       "      <td>10</td>\n",
       "      <td>627.500000</td>\n",
       "      <td>0.02</td>\n",
       "      <td>0.05</td>\n",
       "      <td>0.0</td>\n",
       "      <td>0.0</td>\n",
       "      <td>True</td>\n",
       "      <td>Feb</td>\n",
       "      <td>Returning_Customer</td>\n",
       "      <td>0.0</td>\n",
       "    </tr>\n",
       "  </tbody>\n",
       "</table>\n",
       "</div>"
      ],
      "text/plain": [
       "   SessionID  Administrative  Administrative_Duration  Informational  \\\n",
       "0          1               0                      0.0              0   \n",
       "1          2               0                      0.0              0   \n",
       "2          3               0                      0.0              0   \n",
       "3          4               0                      0.0              0   \n",
       "4          5               0                      0.0              0   \n",
       "\n",
       "   Informational_Duration  ProductRelated  ProductRelated_Duration  \\\n",
       "0                     0.0               1                 0.000000   \n",
       "1                     0.0               2                64.000000   \n",
       "2                     0.0               1                 0.000000   \n",
       "3                     0.0               2                 2.666667   \n",
       "4                     0.0              10               627.500000   \n",
       "\n",
       "   BounceRates  ExitRates  PageValues  SpecialDay  Weekend Month  \\\n",
       "0         0.20       0.20         0.0         0.0    False   Feb   \n",
       "1         0.00       0.10         0.0         0.0    False   Feb   \n",
       "2         0.20       0.20         0.0         0.0    False   Feb   \n",
       "3         0.05       0.14         0.0         0.0    False   Feb   \n",
       "4         0.02       0.05         0.0         0.0     True   Feb   \n",
       "\n",
       "         CustomerType  Purchase  \n",
       "0  Returning_Customer       0.0  \n",
       "1  Returning_Customer       0.0  \n",
       "2  Returning_Customer       0.0  \n",
       "3  Returning_Customer       0.0  \n",
       "4  Returning_Customer       0.0  "
      ]
     },
     "execution_count": 2,
     "metadata": {},
     "output_type": "execute_result"
    }
   ],
   "source": [
    "shopping_data = pd.read_csv(\"online_shopping_session_data.csv\")\n",
    "shopping_data.head()"
   ]
  },
  {
   "cell_type": "markdown",
   "id": "7c0b3150",
   "metadata": {},
   "source": [
    "## Calculate the online purchase rates during online shopping sessions by customer type for November and December.\n",
    "# Subset dataframe for November and December data"
   ]
  },
  {
   "cell_type": "code",
   "execution_count": 3,
   "id": "ce8c409f",
   "metadata": {},
   "outputs": [
    {
     "data": {
      "text/html": [
       "<div>\n",
       "<style scoped>\n",
       "    .dataframe tbody tr th:only-of-type {\n",
       "        vertical-align: middle;\n",
       "    }\n",
       "\n",
       "    .dataframe tbody tr th {\n",
       "        vertical-align: top;\n",
       "    }\n",
       "\n",
       "    .dataframe thead th {\n",
       "        text-align: right;\n",
       "    }\n",
       "</style>\n",
       "<table border=\"1\" class=\"dataframe\">\n",
       "  <thead>\n",
       "    <tr style=\"text-align: right;\">\n",
       "      <th></th>\n",
       "      <th>SessionID</th>\n",
       "      <th>Administrative</th>\n",
       "      <th>Administrative_Duration</th>\n",
       "      <th>Informational</th>\n",
       "      <th>Informational_Duration</th>\n",
       "      <th>ProductRelated</th>\n",
       "      <th>ProductRelated_Duration</th>\n",
       "      <th>BounceRates</th>\n",
       "      <th>ExitRates</th>\n",
       "      <th>PageValues</th>\n",
       "      <th>SpecialDay</th>\n",
       "      <th>Weekend</th>\n",
       "      <th>Month</th>\n",
       "      <th>CustomerType</th>\n",
       "      <th>Purchase</th>\n",
       "    </tr>\n",
       "  </thead>\n",
       "  <tbody>\n",
       "    <tr>\n",
       "      <th>5463</th>\n",
       "      <td>5464</td>\n",
       "      <td>1</td>\n",
       "      <td>39.2</td>\n",
       "      <td>2</td>\n",
       "      <td>120.8</td>\n",
       "      <td>7</td>\n",
       "      <td>80.500000</td>\n",
       "      <td>0.000000</td>\n",
       "      <td>0.010000</td>\n",
       "      <td>0.000000</td>\n",
       "      <td>0.0</td>\n",
       "      <td>True</td>\n",
       "      <td>Nov</td>\n",
       "      <td>New_Customer</td>\n",
       "      <td>0.0</td>\n",
       "    </tr>\n",
       "    <tr>\n",
       "      <th>5464</th>\n",
       "      <td>5465</td>\n",
       "      <td>3</td>\n",
       "      <td>89.6</td>\n",
       "      <td>0</td>\n",
       "      <td>0.0</td>\n",
       "      <td>57</td>\n",
       "      <td>1721.906667</td>\n",
       "      <td>0.000000</td>\n",
       "      <td>0.005932</td>\n",
       "      <td>204.007949</td>\n",
       "      <td>0.0</td>\n",
       "      <td>True</td>\n",
       "      <td>Nov</td>\n",
       "      <td>Returning_Customer</td>\n",
       "      <td>1.0</td>\n",
       "    </tr>\n",
       "    <tr>\n",
       "      <th>5467</th>\n",
       "      <td>5468</td>\n",
       "      <td>4</td>\n",
       "      <td>204.2</td>\n",
       "      <td>0</td>\n",
       "      <td>0.0</td>\n",
       "      <td>31</td>\n",
       "      <td>652.376667</td>\n",
       "      <td>0.012121</td>\n",
       "      <td>0.016162</td>\n",
       "      <td>0.000000</td>\n",
       "      <td>0.0</td>\n",
       "      <td>False</td>\n",
       "      <td>Nov</td>\n",
       "      <td>Returning_Customer</td>\n",
       "      <td>0.0</td>\n",
       "    </tr>\n",
       "    <tr>\n",
       "      <th>5479</th>\n",
       "      <td>5480</td>\n",
       "      <td>0</td>\n",
       "      <td>0.0</td>\n",
       "      <td>0</td>\n",
       "      <td>0.0</td>\n",
       "      <td>13</td>\n",
       "      <td>710.066667</td>\n",
       "      <td>0.000000</td>\n",
       "      <td>0.007692</td>\n",
       "      <td>72.522838</td>\n",
       "      <td>0.0</td>\n",
       "      <td>False</td>\n",
       "      <td>Nov</td>\n",
       "      <td>Returning_Customer</td>\n",
       "      <td>1.0</td>\n",
       "    </tr>\n",
       "    <tr>\n",
       "      <th>5494</th>\n",
       "      <td>5495</td>\n",
       "      <td>0</td>\n",
       "      <td>0.0</td>\n",
       "      <td>0</td>\n",
       "      <td>0.0</td>\n",
       "      <td>24</td>\n",
       "      <td>968.692424</td>\n",
       "      <td>0.000000</td>\n",
       "      <td>0.000000</td>\n",
       "      <td>106.252517</td>\n",
       "      <td>0.0</td>\n",
       "      <td>False</td>\n",
       "      <td>Nov</td>\n",
       "      <td>Returning_Customer</td>\n",
       "      <td>1.0</td>\n",
       "    </tr>\n",
       "  </tbody>\n",
       "</table>\n",
       "</div>"
      ],
      "text/plain": [
       "      SessionID  Administrative  Administrative_Duration  Informational  \\\n",
       "5463       5464               1                     39.2              2   \n",
       "5464       5465               3                     89.6              0   \n",
       "5467       5468               4                    204.2              0   \n",
       "5479       5480               0                      0.0              0   \n",
       "5494       5495               0                      0.0              0   \n",
       "\n",
       "      Informational_Duration  ProductRelated  ProductRelated_Duration  \\\n",
       "5463                   120.8               7                80.500000   \n",
       "5464                     0.0              57              1721.906667   \n",
       "5467                     0.0              31               652.376667   \n",
       "5479                     0.0              13               710.066667   \n",
       "5494                     0.0              24               968.692424   \n",
       "\n",
       "      BounceRates  ExitRates  PageValues  SpecialDay  Weekend Month  \\\n",
       "5463     0.000000   0.010000    0.000000         0.0     True   Nov   \n",
       "5464     0.000000   0.005932  204.007949         0.0     True   Nov   \n",
       "5467     0.012121   0.016162    0.000000         0.0    False   Nov   \n",
       "5479     0.000000   0.007692   72.522838         0.0    False   Nov   \n",
       "5494     0.000000   0.000000  106.252517         0.0    False   Nov   \n",
       "\n",
       "            CustomerType  Purchase  \n",
       "5463        New_Customer       0.0  \n",
       "5464  Returning_Customer       1.0  \n",
       "5467  Returning_Customer       0.0  \n",
       "5479  Returning_Customer       1.0  \n",
       "5494  Returning_Customer       1.0  "
      ]
     },
     "execution_count": 3,
     "metadata": {},
     "output_type": "execute_result"
    }
   ],
   "source": [
    "shopping_Nov_Dec = shopping_data[shopping_data['Month'].isin(['Nov', 'Dec'])]\n",
    "shopping_Nov_Dec.head()"
   ]
  },
  {
   "cell_type": "code",
   "execution_count": 5,
   "id": "824ffa12",
   "metadata": {},
   "outputs": [
    {
     "name": "stdout",
     "output_type": "stream",
     "text": [
      "['Nov' 'Dec']\n"
     ]
    }
   ],
   "source": [
    "# Make sure we only have November and December data\n",
    "print(shopping_Nov_Dec['Month'].unique())"
   ]
  },
  {
   "cell_type": "markdown",
   "id": "c5737e79",
   "metadata": {},
   "source": [
    "# Get session frequency stats by CustomerType and Purchase"
   ]
  },
  {
   "cell_type": "code",
   "execution_count": 6,
   "id": "d0c98f64",
   "metadata": {},
   "outputs": [
    {
     "name": "stdout",
     "output_type": "stream",
     "text": [
      "CustomerType        Purchase\n",
      "New_Customer        0.0          529\n",
      "                    1.0          199\n",
      "Returning_Customer  0.0         2994\n",
      "                    1.0          728\n",
      "Name: count, dtype: int64\n"
     ]
    }
   ],
   "source": [
    "count_session = shopping_Nov_Dec.groupby(['CustomerType'])['Purchase'].value_counts()\n",
    "print(count_session)"
   ]
  },
  {
   "cell_type": "markdown",
   "id": "6cb0a326",
   "metadata": {},
   "source": [
    "# Total number of session by CustomerType"
   ]
  },
  {
   "cell_type": "code",
   "execution_count": 9,
   "id": "79b110f4",
   "metadata": {},
   "outputs": [
    {
     "name": "stdout",
     "output_type": "stream",
     "text": [
      "Total New Customer: 728\n",
      "Total Returning Customer: 3722\n"
     ]
    }
   ],
   "source": [
    "total_new_customer = np.sum(count_session['New_Customer'])\n",
    "total_returning_customer = np.sum(count_session['Returning_Customer'])\n",
    "print(f'Total New Customer: {total_new_customer}')\n",
    "print(f'Total Returning Customer: {total_returning_customer}')"
   ]
  },
  {
   "cell_type": "markdown",
   "id": "7df4b453",
   "metadata": {},
   "source": [
    "# Total number of purchase by CustomerType"
   ]
  },
  {
   "cell_type": "code",
   "execution_count": 10,
   "id": "63fb5be4",
   "metadata": {},
   "outputs": [
    {
     "name": "stdout",
     "output_type": "stream",
     "text": [
      "Purchase by New Customer: 199\n",
      "Purchase by Returning Customer: 728\n"
     ]
    }
   ],
   "source": [
    "purchase_new_customer = count_session[('New_Customer', 1)]\n",
    "purchase_returning_customer = count_session[('Returning_Customer', 1)]\n",
    "print(f'Purchase by New Customer: {purchase_new_customer}')\n",
    "print(f'Purchase by Returning Customer: {purchase_returning_customer}')"
   ]
  },
  {
   "cell_type": "markdown",
   "id": "6957b2df",
   "metadata": {},
   "source": [
    "# Calculate purchase rates"
   ]
  },
  {
   "cell_type": "code",
   "execution_count": 11,
   "id": "32b753f9",
   "metadata": {},
   "outputs": [],
   "source": [
    "purchase_rate_new = purchase_new_customer / total_new_customer\n",
    "purchase_rate_returning = purchase_returning_customer / total_returning_customer"
   ]
  },
  {
   "cell_type": "code",
   "execution_count": 12,
   "id": "3a7b9e86",
   "metadata": {},
   "outputs": [
    {
     "name": "stdout",
     "output_type": "stream",
     "text": [
      "{'Returning_Customer': 0.1955937667920473, 'New_Customer': 0.2733516483516483}\n"
     ]
    }
   ],
   "source": [
    "purchase_rates = {\"Returning_Customer\": purchase_rate_returning, \"New_Customer\": purchase_rate_new}\n",
    "print(purchase_rates)"
   ]
  },
  {
   "cell_type": "markdown",
   "id": "605d64a7",
   "metadata": {},
   "source": [
    "### **Therefore, the online purchase for the returning customers is lower than that of the new customers.**"
   ]
  },
  {
   "cell_type": "markdown",
   "id": "8f21c80f",
   "metadata": {},
   "source": [
    "# Identify the strongest correlation in total time spent between different types of pages visited by the returning customers during the months of November and December. "
   ]
  },
  {
   "cell_type": "code",
   "execution_count": 13,
   "id": "29cd09d1",
   "metadata": {},
   "outputs": [
    {
     "name": "stdout",
     "output_type": "stream",
     "text": [
      "0.24468855792839267\n",
      "0.3898546003206963\n",
      "0.36712552534442133\n"
     ]
    }
   ],
   "source": [
    "# Calculate correlation with pandas\n",
    "cor_admin_info = shopping_Nov_Dec['Administrative_Duration'].corr(shopping_Nov_Dec['Informational_Duration'])\n",
    "cor_admin_product = shopping_Nov_Dec['Administrative_Duration'].corr(shopping_Nov_Dec['ProductRelated_Duration'])\n",
    "cor_product_info = shopping_Nov_Dec['ProductRelated_Duration'].corr(shopping_Nov_Dec['Informational_Duration'])\n",
    "\n",
    "print(cor_admin_info)\n",
    "print(cor_admin_product)\n",
    "print(cor_product_info)"
   ]
  },
  {
   "cell_type": "code",
   "execution_count": 15,
   "id": "02719cdb",
   "metadata": {},
   "outputs": [
    {
     "data": {
      "text/plain": [
       "PearsonRResult(statistic=0.24468855792839247, pvalue=1.1351596218133696e-61)"
      ]
     },
     "execution_count": 15,
     "metadata": {},
     "output_type": "execute_result"
    }
   ],
   "source": [
    "# Another way to solve this is to use Scipy pearsonr function\n",
    "cor_admin_info = stats.pearsonr(shopping_Nov_Dec['Administrative_Duration'], shopping_Nov_Dec['Informational_Duration'])\n",
    "cor_admin_info"
   ]
  },
  {
   "cell_type": "markdown",
   "id": "18c9930a",
   "metadata": {},
   "source": [
    "The value 0.2447 indicates a weak positive linear correlation between the two variables. This means that as `Administrative_Duration` increases, `Informational_Duration` tends to increase slightly as well, but the relationship is not strong.\n",
    "\n",
    "- The p-value here is 1.1351596218133696e-61, which is an extremely small number (close to zero).\n",
    "- The p-value tests the null hypothesis that there is no correlation between the two variables.\n",
    "- A p-value this small indicates that the correlation is statistically significant, meaning it’s highly unlikely that this observed correlation is due to random chance."
   ]
  },
  {
   "cell_type": "code",
   "execution_count": 16,
   "id": "34ea96a3",
   "metadata": {},
   "outputs": [
    {
     "data": {
      "text/html": [
       "<div>\n",
       "<style scoped>\n",
       "    .dataframe tbody tr th:only-of-type {\n",
       "        vertical-align: middle;\n",
       "    }\n",
       "\n",
       "    .dataframe tbody tr th {\n",
       "        vertical-align: top;\n",
       "    }\n",
       "\n",
       "    .dataframe thead th {\n",
       "        text-align: right;\n",
       "    }\n",
       "</style>\n",
       "<table border=\"1\" class=\"dataframe\">\n",
       "  <thead>\n",
       "    <tr style=\"text-align: right;\">\n",
       "      <th></th>\n",
       "      <th>Administrative_Duration</th>\n",
       "      <th>Informational_Duration</th>\n",
       "      <th>ProductRelated_Duration</th>\n",
       "    </tr>\n",
       "  </thead>\n",
       "  <tbody>\n",
       "    <tr>\n",
       "      <th>Administrative_Duration</th>\n",
       "      <td>1.000000</td>\n",
       "      <td>0.244689</td>\n",
       "      <td>0.389855</td>\n",
       "    </tr>\n",
       "    <tr>\n",
       "      <th>Informational_Duration</th>\n",
       "      <td>0.244689</td>\n",
       "      <td>1.000000</td>\n",
       "      <td>0.367126</td>\n",
       "    </tr>\n",
       "    <tr>\n",
       "      <th>ProductRelated_Duration</th>\n",
       "      <td>0.389855</td>\n",
       "      <td>0.367126</td>\n",
       "      <td>1.000000</td>\n",
       "    </tr>\n",
       "  </tbody>\n",
       "</table>\n",
       "</div>"
      ],
      "text/plain": [
       "                         Administrative_Duration  Informational_Duration  \\\n",
       "Administrative_Duration                 1.000000                0.244689   \n",
       "Informational_Duration                  0.244689                1.000000   \n",
       "ProductRelated_Duration                 0.389855                0.367126   \n",
       "\n",
       "                         ProductRelated_Duration  \n",
       "Administrative_Duration                 0.389855  \n",
       "Informational_Duration                  0.367126  \n",
       "ProductRelated_Duration                 1.000000  "
      ]
     },
     "execution_count": 16,
     "metadata": {},
     "output_type": "execute_result"
    }
   ],
   "source": [
    "# Another way to solve this is to use Pandas correlation matrix\n",
    "shopping_Nov_Dec[['Administrative_Duration','Informational_Duration','ProductRelated_Duration' ]].corr()"
   ]
  },
  {
   "cell_type": "code",
   "execution_count": 17,
   "id": "4bab822f",
   "metadata": {},
   "outputs": [
    {
     "name": "stdout",
     "output_type": "stream",
     "text": [
      "{'pair': ('Administrative_Duration', 'ProductRelated_Duration'), 'correlation': 0.3898546003206963}\n"
     ]
    }
   ],
   "source": [
    "# Store top correlation\n",
    "top_correlation = {\"pair\": ('Administrative_Duration', 'ProductRelated_Duration'), \"correlation\": cor_admin_product}\n",
    "print(top_correlation)"
   ]
  },
  {
   "cell_type": "markdown",
   "id": "11bab6e6",
   "metadata": {},
   "source": [
    "## A new campaign for the returning customers will boost the purchase rate by 15%. \n",
    "## What is the likelihood of achieving at least 100 sales out of 500 online shopping sessions for the returning customers?"
   ]
  },
  {
   "cell_type": "markdown",
   "id": "e659da62",
   "metadata": {},
   "source": [
    "### Purchase is a binomial random variable taking the value of either 0 or 1\n",
    "### We know that the current purchase rate for the returning customers is"
   ]
  },
  {
   "cell_type": "code",
   "execution_count": 23,
   "id": "611301b3",
   "metadata": {},
   "outputs": [
    {
     "name": "stdout",
     "output_type": "stream",
     "text": [
      "Current purchase rate for the returning customer: 0.1955937667920473\n"
     ]
    }
   ],
   "source": [
    "print(\"Current purchase rate for the returning customer:\", purchase_rate_returning)"
   ]
  },
  {
   "cell_type": "markdown",
   "id": "645cd720",
   "metadata": {},
   "source": [
    "# 15% Increase in this rate would be"
   ]
  },
  {
   "cell_type": "code",
   "execution_count": null,
   "id": "601821f9",
   "metadata": {},
   "outputs": [],
   "source": [
    "increased_purchase_rate_returning = 1.15 * purchase_rate_returning\n",
    "print(\"Increased purchase rate for the returning customer:\", increased_purchase_rate_returning)"
   ]
  },
  {
   "cell_type": "markdown",
   "id": "b7ec2b35",
   "metadata": {},
   "source": [
    "# First, we find the likelihood of having <100 sales of 500 sessions\n",
    "# We can find this from binomial cdf"
   ]
  },
  {
   "cell_type": "code",
   "execution_count": 20,
   "id": "aa37d80e",
   "metadata": {},
   "outputs": [
    {
     "name": "stdout",
     "output_type": "stream",
     "text": [
      "probability of having <100 sales: 0.09877786609627338\n"
     ]
    }
   ],
   "source": [
    "prob_sales_100_less = stats.binom.cdf(k=100, n=500, p=increased_purchase_rate_returning)\n",
    "print(\"probability of having <100 sales:\", prob_sales_100_less)"
   ]
  },
  {
   "cell_type": "markdown",
   "id": "dc2a3daa",
   "metadata": {},
   "source": [
    " The result, approximately 0.0988, indicates that the probability of having fewer than 100 sales (out of 500 opportunities) is around 9.88%. This suggests that, given the assumed probability of a successful sale (p=increased_purchase_rate_returning), it’s relatively unlikely to see fewer than 100 sales."
   ]
  },
  {
   "cell_type": "markdown",
   "id": "e80ed934",
   "metadata": {},
   "source": [
    "# Then, to find the probability of having 100 or more sales is 1-prob_sales_100_less"
   ]
  },
  {
   "cell_type": "code",
   "execution_count": 21,
   "id": "eab56fc0",
   "metadata": {},
   "outputs": [
    {
     "name": "stdout",
     "output_type": "stream",
     "text": [
      "probability of having at least 100 sales: 0.9012221339037266\n"
     ]
    }
   ],
   "source": [
    "prob_at_least_100_sales = 1 - prob_sales_100_less\n",
    "print(\"probability of having at least 100 sales:\", prob_at_least_100_sales)"
   ]
  },
  {
   "cell_type": "markdown",
   "id": "8416a367",
   "metadata": {},
   "source": [
    "- The **probability of having at least 100 sales** is approximately **90.12%**. This indicates a high likelihood of meeting or exceeding 100 sales, based on the parameters you're working with (500 trials and the given probability of success).\n",
    "  \n",
    "- This can give confidence to stakeholders that in most scenarios (about 90% of the time), the number of sales will be 100 or more, making it a reliable target."
   ]
  },
  {
   "cell_type": "markdown",
   "id": "85c9d91f",
   "metadata": {},
   "source": [
    "# Plotting the binomial probability distribution"
   ]
  },
  {
   "cell_type": "code",
   "execution_count": 22,
   "id": "10347198",
   "metadata": {},
   "outputs": [
    {
     "data": {
      "image/png": "[encoded data removed]",
      "text/plain": [
       "<Figure size 640x480 with 1 Axes>"
      ]
     },
     "metadata": {},
     "output_type": "display_data"
    }
   ],
   "source": [
    "n_sessions = 500\n",
    "k_values = np.arange(500) + 1\n",
    "p_binom_values = [stats.binom.pmf(k, n_sessions, increased_purchase_rate_returning) for k in k_values ] \n",
    "plt.bar(k_values, p_binom_values) \n",
    "plt.vlines(100, 0, 0.08, color='r', linestyle='dashed', label=\"sales=100\")\n",
    "plt.xlabel(\"number of sales\")\n",
    "plt.ylabel(\"probability\")\n",
    "plt.legend()\n",
    "plt.show()"
   ]
  },
  {
   "cell_type": "markdown",
   "id": "adc7ef10",
   "metadata": {},
   "source": [
    "**The number of sales is most likely to be around 100, as shown by the peak in the distribution and the red dashed line highlighting this value. For planning purposes, the business can expect that future sales will likely be close to 100. This could help in resource allocation, inventory management, and setting realistic sales targets.**"
   ]
  }
 ],
 "metadata": {
  "kernelspec": {
   "display_name": "Python 3 (ipykernel)",
   "language": "python",
   "name": "python3"
  },
  "language_info": {
   "codemirror_mode": {
    "name": "ipython",
    "version": 3
   },
   "file_extension": ".py",
   "mimetype": "text/x-python",
   "name": "python",
   "nbconvert_exporter": "python",
   "pygments_lexer": "ipython3",
   "version": "3.11.7"
  }
 },
 "nbformat": 4,
 "nbformat_minor": 5
}
